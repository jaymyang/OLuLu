{
  "nbformat": 4,
  "nbformat_minor": 0,
  "metadata": {
    "colab": {
      "provenance": [],
      "authorship_tag": "ABX9TyN34GODiIVQMcVTUeaxoncv",
      "include_colab_link": true
    },
    "kernelspec": {
      "name": "python3",
      "display_name": "Python 3"
    }
  },
  "cells": [
    {
      "cell_type": "markdown",
      "metadata": {
        "id": "view-in-github",
        "colab_type": "text"
      },
      "source": [
        "<a href=\"https://colab.research.google.com/github/jaymyang/OLuLu/blob/test_files/%E5%AD%97%E5%85%B8%E5%90%AB%E4%B8%B2%E5%88%97%E6%B8%AC%E8%A9%A6.ipynb\" target=\"_parent\"><img src=\"https://colab.research.google.com/assets/colab-badge.svg\" alt=\"Open In Colab\"/></a>"
      ]
    },
    {
      "cell_type": "code",
      "metadata": {
        "colab": {
          "base_uri": "https://localhost:8080/"
        },
        "id": "6EjaDv-Ax3BF",
        "outputId": "c1367cf6-4318-4368-a3eb-84c7b442cf10"
      },
      "source": [
        "from google.colab import drive\n",
        "\n",
        "drive.mount('/content/drive')"
      ],
      "execution_count": null,
      "outputs": [
        {
          "output_type": "stream",
          "text": [
            "Mounted at /content/drive\n"
          ],
          "name": "stdout"
        }
      ]
    },
    {
      "cell_type": "code",
      "source": [
        "#預計在字典中，將以name串列存放病歷號或床號，time串列存放時間串列（每個病人一個串列），weight串列存放重量串列（每個病人一個串列）\n",
        "#是不是可以把字典改成串列？\n",
        "import random\n",
        "data={'name':[],'time':[],'weight':[]}\n",
        "\n",
        "for i in range(10):\n",
        "  a=random.randrange(10)\n",
        "  if a <3:\n",
        "    new_name='A'\n",
        "    new_time=i\n",
        "    new_weight=11\n",
        "\n",
        "  elif a<6:\n",
        "    new_name='B'\n",
        "    new_time=i\n",
        "    new_weight=22\n",
        "  else:\n",
        "    new_name='C'\n",
        "    new_time=i\n",
        "    new_weight=33\n",
        "\n",
        "  if new_name in data['name']:\n",
        "    print(new_name) #追蹤各new_name的出現順序用\n",
        "    data['time'][data['name'].index(new_name)].append(new_time)\n",
        "    data['weight'][data['name'].index(new_name)].append(new_weight)\n",
        "\n",
        "  else:\n",
        "    print(new_name) #追蹤各new_name的出現順序用\n",
        "    data['name'].append(new_name)\n",
        "    data['time'].append([new_time])\n",
        "    data['weight'].append([new_weight])\n",
        "\n",
        "\n",
        "print('finnally:',data)\n",
        "#order=input('please type A,B,or C')\n",
        "#for i in data['name']:\n",
        "#  if i==order:\n",
        "#    print(data['value'][data['name'].index(i)])"
      ],
      "metadata": {
        "colab": {
          "base_uri": "https://localhost:8080/"
        },
        "id": "PthYOrx3OcGZ",
        "outputId": "fc3877a2-e88e-4c0c-b5f0-76689021a2f9"
      },
      "execution_count": 26,
      "outputs": [
        {
          "output_type": "stream",
          "name": "stdout",
          "text": [
            "C\n",
            "C\n",
            "A\n",
            "C\n",
            "A\n",
            "A\n",
            "B\n",
            "A\n",
            "C\n",
            "C\n",
            "finnally: {'name': ['C', 'A', 'B'], 'time': [[0, 1, 3, 8, 9], [2, 4, 5, 7], [6]], 'weight': [[33, 33, 33, 33, 33], [11, 11, 11, 11], [22]]}\n"
          ]
        }
      ]
    },
    {
      "cell_type": "code",
      "source": [],
      "metadata": {
        "id": "T1cz6f1gxDkv"
      },
      "execution_count": null,
      "outputs": []
    }
  ]
}